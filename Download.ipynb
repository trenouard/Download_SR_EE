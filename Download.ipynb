{
 "cells": [
  {
   "cell_type": "code",
   "execution_count": 1,
   "metadata": {},
   "outputs": [],
   "source": [
    "import os\n",
    "import numpy as np\n",
    "import pickle\n",
    "import warnings\n",
    "warnings.filterwarnings(\"ignore\")\n",
    "import matplotlib\n",
    "matplotlib.use('Qt5Agg')\n",
    "import matplotlib.pyplot as plt\n",
    "from matplotlib import gridspec\n",
    "plt.ion()\n",
    "import pandas as pd\n",
    "\n",
    "from datetime import datetime\n",
    "import SDS_download, SDS_preprocess, SDS_process, SDS_tools"
   ]
  },
  {
   "cell_type": "code",
   "execution_count": 2,
   "metadata": {},
   "outputs": [
    {
     "name": "stdout",
     "output_type": "stream",
     "text": [
      "Images available between 2017-01-01 and 2022-04-01:\n",
      "- In Landsat Tier 1 Level 2 & Sentinel-2 Level-2A:\n",
      "  L8: 347 images\n",
      "  Total: 347 images\n",
      "- In Landsat Tier 2:\n",
      "  L8: 1 images\n",
      "  Total: 1 images\n"
     ]
    }
   ],
   "source": [
    "# region of interest (longitude, latitude)\n",
    "\n",
    "        ### SENNAR AOI ### \n",
    "polygon = [[[33.428558, 13.696721],\n",
    "            [33.428558, 13.617978],\n",
    "            [33.506682, 13.696721],\n",
    "            [33.506682, 13.617978],\n",
    "            [33.428558, 13.696721]]] \n",
    "\n",
    "\n",
    "#polygon = [[[33.407151, 13.902460],\n",
    "#            [33.407151, 13.580285],\n",
    "#            [33.936717, 13.902460],\n",
    "#            [33.936717, 13.580285],\n",
    "#            [33.407151, 13.902460]]] \n",
    "\n",
    "# it's recommended to convert the polygon to the smallest rectangle (sides parallel to coordinate axes)       \n",
    "polygon = SDS_tools.smallest_rectangle(polygon)\n",
    "# date range\n",
    "dates = ['2017-01-01', '2022-04-01']\n",
    "# satellite missions\n",
    "sat_list = ['L8'] #['L5', 'L7' , 'S2']\n",
    "# name of the site\n",
    "sitename = 'Sennar_small'\n",
    "# directory where the data will be stored\n",
    "filepath = os.path.join(os.getcwd(), 'data')\n",
    "# put all the inputs into a dictionnary\n",
    "inputs = {'polygon': polygon, 'dates': dates, 'sat_list': sat_list, 'sitename': sitename, 'filepath':filepath}\n",
    "\n",
    "# before downloading the images, check how many images are available for your inputs\n",
    "SDS_download.check_images_available(inputs);"
   ]
  },
  {
   "cell_type": "code",
   "execution_count": 3,
   "metadata": {},
   "outputs": [
    {
     "name": "stdout",
     "output_type": "stream",
     "text": [
      "Images available between 2017-01-01 and 2022-04-01:\n",
      "- In Landsat Tier 1 Level 2 & Sentinel-2 Level-2A:\n",
      "  L8: 347 images\n",
      "  Total: 347 images\n",
      "- In Landsat Tier 2:\n",
      "  L8: 1 images\n",
      "  Total: 1 images\n",
      "\n",
      "Downloading images:\n",
      "L8: 347 images\n",
      "100%\n"
     ]
    }
   ],
   "source": [
    "# inputs['include_T2'] = True\n",
    "metadata = SDS_download.retrieve_images(inputs)"
   ]
  },
  {
   "cell_type": "code",
   "execution_count": 3,
   "metadata": {},
   "outputs": [],
   "source": [
    "metadata = SDS_download.get_metadata(inputs) "
   ]
  },
  {
   "cell_type": "code",
   "execution_count": 4,
   "metadata": {},
   "outputs": [],
   "source": [
    "settings = { \n",
    "    # general parameters:\n",
    "    'cloud_thresh': 0.5,        # threshold on maximum cloud cover\n",
    "    'cloud_mask_issue': False,  # switch this parameter to True if pixels are masked (in black) on many images  \n",
    "    # add the inputs defined previously\n",
    "    'inputs': inputs\n",
    "}"
   ]
  },
  {
   "cell_type": "code",
   "execution_count": 5,
   "metadata": {},
   "outputs": [
    {
     "name": "stdout",
     "output_type": "stream",
     "text": [
      "\n",
      "L8:   99%"
     ]
    },
    {
     "name": "stderr",
     "output_type": "stream",
     "text": [
      "  0%|                                                                                          | 0/346 [00:00<?, ?it/s]"
     ]
    },
    {
     "name": "stdout",
     "output_type": "stream",
     "text": [
      "L8:   100%\n",
      "Saving NDVI as Zarr\n"
     ]
    },
    {
     "name": "stderr",
     "output_type": "stream",
     "text": [
      "100%|████████████████████████████████████████████████████████████████████████████████| 346/346 [00:22<00:00, 15.29it/s]\n",
      "  2%|█▉                                                                                | 8/346 [00:00<00:05, 62.72it/s]"
     ]
    },
    {
     "name": "stdout",
     "output_type": "stream",
     "text": [
      "\n",
      "Saving LST as Zarr\n"
     ]
    },
    {
     "name": "stderr",
     "output_type": "stream",
     "text": [
      "100%|████████████████████████████████████████████████████████████████████████████████| 346/346 [00:21<00:00, 15.79it/s]\n"
     ]
    }
   ],
   "source": [
    "SDS_process.get_ndvi_lst(metadata, settings)"
   ]
  }
 ],
 "metadata": {
  "kernelspec": {
   "display_name": "Python 3",
   "language": "python",
   "name": "python3"
  },
  "language_info": {
   "codemirror_mode": {
    "name": "ipython",
    "version": 3
   },
   "file_extension": ".py",
   "mimetype": "text/x-python",
   "name": "python",
   "nbconvert_exporter": "python",
   "pygments_lexer": "ipython3",
   "version": "3.8.5"
  }
 },
 "nbformat": 4,
 "nbformat_minor": 4
}
